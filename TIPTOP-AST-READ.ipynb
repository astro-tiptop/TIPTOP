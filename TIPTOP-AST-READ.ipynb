{
 "cells": [
  {
   "cell_type": "code",
   "execution_count": null,
   "metadata": {},
   "outputs": [],
   "source": [
    "%matplotlib inline\n",
    "\n",
    "from tiptop.tiptop import *\n",
    "rc(\"text\", usetex=False)"
   ]
  },
  {
   "cell_type": "code",
   "execution_count": null,
   "metadata": {},
   "outputs": [],
   "source": [
    "sr, fw, ee, covs, simul = reloadAsterismSelection(\"TestSingles1\", \"astTest\", \"ERISastSingles1\", 'astTest', 'TestSingles1', doPlot=False)"
   ]
  },
  {
   "cell_type": "code",
   "execution_count": null,
   "metadata": {},
   "outputs": [],
   "source": [
    "simul.plotField(0)"
   ]
  },
  {
   "cell_type": "code",
   "execution_count": null,
   "metadata": {},
   "outputs": [],
   "source": [
    "sr, fw, ee, covs, simul = reloadAsterismSelection(\"TestERIS10\", \"astTest\", \"ERISast10\", 'astTest', 'testERIS10', doPlot=False)\n",
    "simul.plotFieldInterval(0, 9)"
   ]
  },
  {
   "cell_type": "code",
   "execution_count": null,
   "metadata": {},
   "outputs": [],
   "source": [
    "sr, fw, ee, covs, simul = reloadAsterismSelection(\"TestERIS100\", \"astTest\", \"ERISast100\", 'astTest', 'testERIS100', doPlot=False)\n",
    "simul.plotFieldInterval(0, 99)"
   ]
  },
  {
   "cell_type": "code",
   "execution_count": null,
   "metadata": {},
   "outputs": [],
   "source": [
    "sr, fw, ee, covs, simul = reloadAsterismSelection(\"Test1000ERIS\", \"astTest\", \"ERISast\", 'astTest', 'testERIS', doPlot=False)"
   ]
  },
  {
   "cell_type": "code",
   "execution_count": null,
   "metadata": {},
   "outputs": [],
   "source": [
    "simul.plotFieldInterval(0, 199)"
   ]
  },
  {
   "cell_type": "code",
   "execution_count": null,
   "metadata": {},
   "outputs": [],
   "source": [
    "sr, fw, ee, covs, simul = reloadAsterismSelection(\"Test10\", \"astTest\", \"MAVISast\", 'astTest', 'testMAVIS', doPlot=False)"
   ]
  },
  {
   "cell_type": "code",
   "execution_count": null,
   "metadata": {},
   "outputs": [],
   "source": [
    "simul.plotField(2)"
   ]
  },
  {
   "cell_type": "code",
   "execution_count": null,
   "metadata": {},
   "outputs": [],
   "source": [
    "sr, fw, ee, covs, simul = reloadAsterismSelection(\"TestMonads\", \"astTest\", \"ERISastSingles1\", 'astTest', 'testERIS', doPlot=False)"
   ]
  },
  {
   "cell_type": "code",
   "execution_count": null,
   "metadata": {},
   "outputs": [],
   "source": [
    "simul.plotField(0)"
   ]
  },
  {
   "cell_type": "code",
   "execution_count": null,
   "metadata": {},
   "outputs": [],
   "source": [
    "sr, fw, ee, covs, simul = reloadAsterismSelection(\"TestTriplets\", \"astTest\", \"MAVISastTriplets\", 'astTest', 'testMAVIS', doPlot=False)"
   ]
  },
  {
   "cell_type": "code",
   "execution_count": null,
   "metadata": {},
   "outputs": [],
   "source": [
    "simul.plotField(0)"
   ]
  },
  {
   "cell_type": "code",
   "execution_count": null,
   "metadata": {},
   "outputs": [],
   "source": [
    "sr, fw, ee, covs, simul = reloadAsterismSelection(\"TestSingles\", \"astTest\", \"MAVISastSingles\", 'astTest', 'testMAVIS', doPlot=False)"
   ]
  },
  {
   "cell_type": "code",
   "execution_count": null,
   "metadata": {},
   "outputs": [],
   "source": [
    "simul.plotField(0)"
   ]
  },
  {
   "cell_type": "code",
   "execution_count": null,
   "metadata": {},
   "outputs": [],
   "source": [
    "sr, fw, ee, covs, simul = reloadAsterismSelection(\"Test10\", \"astTest\", \"MAVISast\", 'astTest', 'testMAVIS', doPlot=False)"
   ]
  },
  {
   "cell_type": "code",
   "execution_count": null,
   "metadata": {},
   "outputs": [],
   "source": [
    "simul.plotField(0)"
   ]
  },
  {
   "cell_type": "code",
   "execution_count": null,
   "metadata": {},
   "outputs": [],
   "source": [
    "sr, fw, ee, covs, simul = reloadAsterismSelection(\"TestGenerate\", \"astTest\", \"MAVISastGenerate\", 'astTest', 'testMAVIS', doPlot=False)"
   ]
  },
  {
   "cell_type": "code",
   "execution_count": null,
   "metadata": {},
   "outputs": [],
   "source": [
    "simul.plotField(0)"
   ]
  },
  {
   "cell_type": "code",
   "execution_count": null,
   "metadata": {},
   "outputs": [],
   "source": [
    "simul.plotField(1)"
   ]
  },
  {
   "cell_type": "code",
   "execution_count": null,
   "metadata": {},
   "outputs": [],
   "source": [
    "simul.plotField(2)"
   ]
  },
  {
   "cell_type": "code",
   "execution_count": null,
   "metadata": {},
   "outputs": [],
   "source": [
    "simul.plotField(3)"
   ]
  }
 ],
 "metadata": {
  "kernelspec": {
   "display_name": "Python 3 (ipykernel)",
   "language": "python",
   "name": "python3"
  },
  "language_info": {
   "codemirror_mode": {
    "name": "ipython",
    "version": 3
   },
   "file_extension": ".py",
   "mimetype": "text/x-python",
   "name": "python",
   "nbconvert_exporter": "python",
   "pygments_lexer": "ipython3",
   "version": "3.11.4"
  }
 },
 "nbformat": 4,
 "nbformat_minor": 4
}
