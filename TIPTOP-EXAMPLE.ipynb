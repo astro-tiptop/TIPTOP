{
 "cells": [
  {
   "cell_type": "code",
   "execution_count": 1,
   "metadata": {},
   "outputs": [
    {
     "name": "stdout",
     "output_type": "stream",
     "text": [
      "Cupy import successfull. Installed version is: 8.5.0\n",
      "Cupy import successfull. Installed version is: 8.5.0\n"
     ]
    }
   ],
   "source": [
    "%matplotlib inline\n",
    "%load_ext line_profiler\n",
    "\n",
    "from tiptop.tiptop import *"
   ]
  },
  {
   "cell_type": "code",
   "execution_count": 2,
   "metadata": {},
   "outputs": [],
   "source": [
    "fullInputPath = \"perfTest\"\n",
    "parametersFile = \"HarmoniLTAO_1\"\n",
    "#parametersFileGPU = 'params1GPU'\n",
    "#parametersFileCPU = 'params1CPU'\n",
    "baseOutpuPath = 'perfTest'\n",
    "outputFile = \"test\""
   ]
  },
  {
   "cell_type": "code",
   "execution_count": 4,
   "metadata": {},
   "outputs": [
    {
     "ename": "SyntaxError",
     "evalue": "invalid syntax (<string>, line 1)",
     "output_type": "error",
     "traceback": [
      "Traceback \u001b[0;36m(most recent call last)\u001b[0m:\n",
      "  File \u001b[1;32m\"/opt/anaconda3/lib/python3.7/site-packages/IPython/core/interactiveshell.py\"\u001b[0m, line \u001b[1;32m3441\u001b[0m, in \u001b[1;35mrun_code\u001b[0m\n    exec(code_obj, self.user_global_ns, self.user_ns)\n",
      "  File \u001b[1;32m\"/tmp/ipykernel_9809/2362115778.py\"\u001b[0m, line \u001b[1;32m2\u001b[0m, in \u001b[1;35m<module>\u001b[0m\n    overallSimulation(fullInputPath, parametersFile, baseOutpuPath, outputFile, doPlot=True, doConvolve=True)\n",
      "  File \u001b[1;32m\"/home/frossi/dev/TIPTOP/tiptop/tiptop.py\"\u001b[0m, line \u001b[1;32m87\u001b[0m, in \u001b[1;35moverallSimulation\u001b[0m\n    fao = fourierModel( fullPathFilename_ini, calcPSF=False, verbose=False, display=False, getPSDatNGSpositions=True)\n",
      "  File \u001b[1;32m\"/home/frossi/dev/TIPTOP/P3/aoSystem/fourierModel.py\"\u001b[0m, line \u001b[1;32m74\u001b[0m, in \u001b[1;35m__init__\u001b[0m\n    self.ao = aoSystem(path_ini,path_root=path_root,getPSDatNGSpositions=getPSDatNGSpositions)\n",
      "\u001b[0;36m  File \u001b[0;32m\"/home/frossi/dev/TIPTOP/P3/aoSystem/aoSystem.py\"\u001b[0;36m, line \u001b[0;32m108\u001b[0;36m, in \u001b[0;35m__init__\u001b[0;36m\u001b[0m\n\u001b[0;31m    path_pupil = path_root + eval(\"r\"+self.get_config_value('telescope','PathPupil'))\u001b[0m\n",
      "\u001b[0;36m  File \u001b[0;32m\"<string>\"\u001b[0;36m, line \u001b[0;32m1\u001b[0m\n\u001b[0;31m    r/home/frossi/dev/TIPTOP/P3/aoSystem/data/ELT_CALIBRATION/EELT480pp0.0813spider.fits\u001b[0m\n\u001b[0m                                                                            ^\u001b[0m\n\u001b[0;31mSyntaxError\u001b[0m\u001b[0;31m:\u001b[0m invalid syntax\n"
     ]
    }
   ],
   "source": [
    "# %lprun -f MavisLO.computeTotalResidualMatrix \n",
    "overallSimulation(fullInputPath, parametersFile, baseOutpuPath, outputFile, doPlot=True, doConvolve=True)"
   ]
  },
  {
   "cell_type": "code",
   "execution_count": null,
   "metadata": {},
   "outputs": [],
   "source": [
    "%%time\n",
    "overallSimulation(fullInputPath, parametersFileGPU, baseOutpuPath, outputFile, doConvolve=True, pitchScaling = 0.9)"
   ]
  },
  {
   "cell_type": "code",
   "execution_count": null,
   "metadata": {},
   "outputs": [],
   "source": [
    "%%time\n",
    "overallSimulation(fullInputPath, parametersFileCPU, baseOutpuPath, outputFile, doConvolve=True, pitchScaling = 0.9)"
   ]
  },
  {
   "cell_type": "code",
   "execution_count": null,
   "metadata": {},
   "outputs": [],
   "source": [
    "%lprun -f MavisLO.computeTotalResidualMatrix overallSimulation(fullInputPath, parametersFileCPU, baseOutpuPath, outputFile, doConvolve=True, pitchScaling = 0.9)"
   ]
  },
  {
   "cell_type": "code",
   "execution_count": null,
   "metadata": {},
   "outputs": [],
   "source": [
    "# MAVIS SIMULATIONS\n",
    "baseInputPath = '/data7/guido/results/MAVIS/res4psf/20201116_111006.0_oaPSFs_w'\n",
    "baseOutpuPath = '/data4/frossi/'\n",
    "\n",
    "wvlPaths = ['450','550','640','890']\n",
    "k=-1\n",
    "for wvlPath in wvlPaths:\n",
    "    k+=1\n",
    "    fullInputPath = baseInputPath + wvlPath + 'nm/'\n",
    "    parametersFile = 'params'\n",
    "    outputFile = 'simulation' + wvlPath + 'nm'\n",
    "    overallSimulation(fullInputPath, parametersFile, baseOutpuPath, outputFile,doConvolve=True,pitchScaling = 0.9)\n",
    "print('Done')"
   ]
  },
  {
   "cell_type": "code",
   "execution_count": null,
   "metadata": {},
   "outputs": [],
   "source": []
  },
  {
   "cell_type": "code",
   "execution_count": null,
   "metadata": {},
   "outputs": [],
   "source": []
  },
  {
   "cell_type": "code",
   "execution_count": null,
   "metadata": {},
   "outputs": [],
   "source": []
  },
  {
   "cell_type": "code",
   "execution_count": null,
   "metadata": {},
   "outputs": [],
   "source": []
  },
  {
   "cell_type": "code",
   "execution_count": null,
   "metadata": {},
   "outputs": [],
   "source": []
  },
  {
   "cell_type": "code",
   "execution_count": null,
   "metadata": {},
   "outputs": [],
   "source": []
  },
  {
   "cell_type": "code",
   "execution_count": null,
   "metadata": {},
   "outputs": [],
   "source": []
  }
 ],
 "metadata": {
  "kernelspec": {
   "display_name": "Python 3 (ipykernel)",
   "language": "python",
   "name": "python3"
  },
  "language_info": {
   "codemirror_mode": {
    "name": "ipython",
    "version": 3
   },
   "file_extension": ".py",
   "mimetype": "text/x-python",
   "name": "python",
   "nbconvert_exporter": "python",
   "pygments_lexer": "ipython3",
   "version": "3.7.8"
  }
 },
 "nbformat": 4,
 "nbformat_minor": 4
}
