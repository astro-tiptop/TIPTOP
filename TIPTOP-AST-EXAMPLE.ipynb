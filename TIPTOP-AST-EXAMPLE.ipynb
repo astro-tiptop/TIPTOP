{
 "cells": [
  {
   "cell_type": "code",
   "execution_count": null,
   "metadata": {},
   "outputs": [],
   "source": [
    "#%matplotlib inline\n",
    "\n",
    "from tiptop.tiptop import *\n",
    "rc(\"text\", usetex=False)"
   ]
  },
  {
   "cell_type": "code",
   "execution_count": null,
   "metadata": {},
   "outputs": [],
   "source": [
    "sr, fw, ee, covs, simul = asterismSelection(\"TestERISRandom\", \"astTest\", \"ERISastRandom\", 'astTest', 'testERISRandom', doPlot=False)"
   ]
  },
  {
   "cell_type": "code",
   "execution_count": null,
   "metadata": {},
   "outputs": [],
   "source": [
    "sr, fw, ee, covs, simul = asterismSelection(\"TestSingles1\", \"astTest\", \"ERISastSingles1\", 'astTest', 'TestSingles1', doPlot=False, verbose=False)"
   ]
  },
  {
   "cell_type": "code",
   "execution_count": null,
   "metadata": {},
   "outputs": [],
   "source": [
    "sr, fw, ee, covs, simul = asterismSelection(\"TestERIS10\", \"astTest\", \"ERISast10\", 'astTest', 'testERIS10', doPlot=False)"
   ]
  },
  {
   "cell_type": "code",
   "execution_count": null,
   "metadata": {},
   "outputs": [],
   "source": [
    "sr, fw, ee, covs, simul = asterismSelection(\"TestERIS100\", \"astTest\", \"ERISast100\", 'astTest', 'testERIS100', doPlot=False)"
   ]
  },
  {
   "cell_type": "code",
   "execution_count": null,
   "metadata": {},
   "outputs": [],
   "source": [
    "sr, fw, ee, covs, simul = asterismSelection(\"TestERIS1000\", \"astTest\", \"ERISast1000\", 'astTest', 'testERIS1000', doPlot=False)"
   ]
  },
  {
   "cell_type": "code",
   "execution_count": null,
   "metadata": {},
   "outputs": [],
   "source": [
    "# the parameters are, in sequence:\n",
    "#\n",
    "# the initial part of the name of the output files\n",
    "# the input folder (to ini file)\n",
    "# The input ini file name\n",
    "# the output folder\n",
    "# the fits file output file name\n",
    "sr, fw, ee, covs, simul = asterismSelection(\"TestMonads\", \"astTest\", \"ERISastMonads\", 'astTest', 'testERIS', doPlot=False)"
   ]
  },
  {
   "cell_type": "code",
   "execution_count": null,
   "metadata": {},
   "outputs": [],
   "source": [
    "sr, fw, ee, covs, simul = asterismSelection(\"TestTriplets\", \"astTest\", \"MAVISastTriplets\", 'astTest', 'testMAVIS', doPlot=False)"
   ]
  },
  {
   "cell_type": "code",
   "execution_count": null,
   "metadata": {},
   "outputs": [],
   "source": [
    "sr, fw, ee, covs, simul = asterismSelection(\"TestSingles\", \"astTest\", \"MAVISastSingles\", 'astTest', 'testMAVIS', doPlot=False)"
   ]
  },
  {
   "cell_type": "code",
   "execution_count": null,
   "metadata": {},
   "outputs": [],
   "source": [
    "sr, fw, ee, covs, simul = asterismSelection(\"Test10\", \"astTest\", \"MAVISast\", 'astTest', 'testMAVIS', doPlot=False)"
   ]
  },
  {
   "cell_type": "code",
   "execution_count": null,
   "metadata": {},
   "outputs": [],
   "source": [
    "sr, fw, ee, covs, simul = asterismSelection(\"TestGenerate\", \"astTest\", \"MAVISastGenerate\", 'astTest', 'testMAVIS', doPlot=False)"
   ]
  },
  {
   "cell_type": "code",
   "execution_count": null,
   "metadata": {},
   "outputs": [],
   "source": []
  }
 ],
 "metadata": {
  "kernelspec": {
   "display_name": "Python 3 (ipykernel)",
   "language": "python",
   "name": "python3"
  },
  "language_info": {
   "codemirror_mode": {
    "name": "ipython",
    "version": 3
   },
   "file_extension": ".py",
   "mimetype": "text/x-python",
   "name": "python",
   "nbconvert_exporter": "python",
   "pygments_lexer": "ipython3",
   "version": "3.11.4"
  }
 },
 "nbformat": 4,
 "nbformat_minor": 4
}
