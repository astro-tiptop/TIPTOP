{
 "cells": [
  {
   "cell_type": "code",
   "execution_count": 1,
   "metadata": {},
   "outputs": [
    {
     "name": "stdout",
     "output_type": "stream",
     "text": [
      "Cupy import successfull. Installed version is: 12.1.0\n",
      "Cupy import successfull. Installed version is: 12.1.0\n",
      "Cupy import successfull. Installed version is: 12.1.0\n"
     ]
    }
   ],
   "source": [
    "#%matplotlib inline\n",
    "\n",
    "from tiptop.tiptop import *\n",
    "rc(\"text\", usetex=False)"
   ]
  },
  {
   "cell_type": "code",
   "execution_count": 2,
   "metadata": {},
   "outputs": [
    {
     "name": "stdout",
     "output_type": "stream",
     "text": [
      "\n",
      "Field 0 DONE\n"
     ]
    }
   ],
   "source": [
    "sr, fw, ee, covs, simul = asterismSelection(\"TestTriplets\", \"astTest\", \"MAVISastTriplets\", 'astTest', 'testMAVIS', doPlot=False)"
   ]
  },
  {
   "cell_type": "code",
   "execution_count": 3,
   "metadata": {},
   "outputs": [
    {
     "name": "stdout",
     "output_type": "stream",
     "text": [
      "\n",
      "Field 0 DONE\n"
     ]
    }
   ],
   "source": [
    "sr, fw, ee, covs, simul = asterismSelection(\"TestSingles\", \"astTest\", \"MAVISastSingles\", 'astTest', 'testMAVIS', doPlot=False)"
   ]
  },
  {
   "cell_type": "code",
   "execution_count": 4,
   "metadata": {},
   "outputs": [
    {
     "name": "stdout",
     "output_type": "stream",
     "text": [
      "Number of Fields: 10\n",
      "total_skipped_fields:  0\n",
      "total_skipped_asterisms:  1\n",
      "total good asterisms:  150\n",
      "\n",
      "\n",
      "\n",
      "\n",
      "\n",
      "\n",
      "\n",
      "\n",
      "\n",
      "Field 9 DONE\n"
     ]
    }
   ],
   "source": [
    "sr, fw, ee, covs, simul = asterismSelection(\"Test10\", \"astTest\", \"MAVISast\", 'astTest', 'testMAVIS', doPlot=False)"
   ]
  },
  {
   "cell_type": "code",
   "execution_count": null,
   "metadata": {},
   "outputs": [
    {
     "name": "stdout",
     "output_type": "stream",
     "text": [
      "\n",
      "\n",
      "\n"
     ]
    }
   ],
   "source": [
    "sr, fw, ee, covs, simul = asterismSelection(\"TestGenerate\", \"astTest\", \"MAVISastGenerate\", 'astTest', 'testMAVIS', doPlot=False)"
   ]
  }
 ],
 "metadata": {
  "kernelspec": {
   "display_name": "Python 3 (ipykernel)",
   "language": "python",
   "name": "python3"
  },
  "language_info": {
   "codemirror_mode": {
    "name": "ipython",
    "version": 3
   },
   "file_extension": ".py",
   "mimetype": "text/x-python",
   "name": "python",
   "nbconvert_exporter": "python",
   "pygments_lexer": "ipython3",
   "version": "3.11.4"
  }
 },
 "nbformat": 4,
 "nbformat_minor": 4
}
