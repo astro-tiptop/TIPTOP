{
 "cells": [
  {
   "cell_type": "code",
   "execution_count": null,
   "metadata": {},
   "outputs": [],
   "source": [
    "%matplotlib inline\n",
    "import pandas as pd\n",
    "\n",
    "from tiptop.tiptop import *\n",
    "rc(\"text\", usetex=False)"
   ]
  },
  {
   "cell_type": "code",
   "execution_count": null,
   "metadata": {},
   "outputs": [],
   "source": [
    "from scipy.io import readsav\n",
    "\n",
    "# file_simul_asterisms = '/raid1/plantet/Data/MAVIS/asterisms_trilegal_l0_bm90_9deg2_UBVRIJHKLMN_Hmag22.0_theta0_gap18.0_rad0_60.sav'\n",
    "file_simul_asterisms = '/raid1/plantet/Data/MAVIS/asterisms_trilegal_l90_bm30_9deg2_UBVRIJHKLMN_mag19.0_theta0_rad0_60.sav'\n",
    "simul_asterisms_data = readsav(file_simul_asterisms)"
   ]
  },
  {
   "cell_type": "code",
   "execution_count": null,
   "metadata": {},
   "outputs": [],
   "source": [
    "print(type(simul_asterisms_data['tab_tot']))"
   ]
  },
  {
   "cell_type": "code",
   "execution_count": null,
   "metadata": {},
   "outputs": [],
   "source": [
    "simul_asterisms_data.keys()"
   ]
  },
  {
   "cell_type": "code",
   "execution_count": null,
   "metadata": {},
   "outputs": [],
   "source": [
    "d0 = simul_asterisms_data['tab_tot'].take([0])\n",
    "print(type(d0[0]))\n",
    "print(d0[0].shape)\n",
    "print(d0[0].size)\n",
    "print(len(d0[0]))"
   ]
  },
  {
   "cell_type": "code",
   "execution_count": null,
   "metadata": {},
   "outputs": [],
   "source": [
    "df = pd.DataFrame(d0)\n",
    "df.head()"
   ]
  },
  {
   "cell_type": "code",
   "execution_count": null,
   "metadata": {},
   "outputs": [],
   "source": [
    "df0 = df.iloc[:,0:-9990]\n"
   ]
  },
  {
   "cell_type": "code",
   "execution_count": null,
   "metadata": {},
   "outputs": [],
   "source": [
    "df1 = df.iloc[:,0:-9900]\n"
   ]
  },
  {
   "cell_type": "code",
   "execution_count": null,
   "metadata": {},
   "outputs": [],
   "source": [
    "df2 = df.iloc[:,0:-9000]"
   ]
  },
  {
   "cell_type": "code",
   "execution_count": null,
   "metadata": {},
   "outputs": [],
   "source": [
    "df3 = df.iloc[:, :-5265]"
   ]
  },
  {
   "cell_type": "code",
   "execution_count": null,
   "metadata": {},
   "outputs": [],
   "source": [
    "rr0 = df0.to_records(index=False)\n",
    "rr1 = df1.to_records(index=False)\n",
    "rr2 = df2.to_records(index=False)\n",
    "rr3 = df.to_records(index=False)"
   ]
  },
  {
   "cell_type": "code",
   "execution_count": null,
   "metadata": {},
   "outputs": [],
   "source": [
    "print(len(rr0[0]))\n",
    "print(len(rr1[0]))\n",
    "print(len(rr2[0]))\n",
    "print(len(rr3[0]))"
   ]
  },
  {
   "cell_type": "code",
   "execution_count": null,
   "metadata": {},
   "outputs": [],
   "source": [
    "with open('rec_array10_e.npy','wb') as f:\n",
    "    rr0[0].dump(f)"
   ]
  },
  {
   "cell_type": "code",
   "execution_count": null,
   "metadata": {},
   "outputs": [],
   "source": [
    "with open('rec_array100_e.npy','wb') as f:\n",
    "    rr1[0].dump(f)"
   ]
  },
  {
   "cell_type": "code",
   "execution_count": null,
   "metadata": {},
   "outputs": [],
   "source": [
    "with open('rec_array1000_e.npy','wb') as f:\n",
    "    rr2[0].dump(f)"
   ]
  },
  {
   "cell_type": "code",
   "execution_count": null,
   "metadata": {},
   "outputs": [],
   "source": [
    "with open('rec_array10000_e.npy','wb') as f:\n",
    "    rr3[0].dump(f)"
   ]
  },
  {
   "cell_type": "code",
   "execution_count": null,
   "metadata": {},
   "outputs": [],
   "source": [
    "simul_asterisms_data_read = np.load('rec_array100.npy', allow_pickle=True)"
   ]
  },
  {
   "cell_type": "code",
   "execution_count": null,
   "metadata": {},
   "outputs": [],
   "source": [
    "simul_asterisms_data_read[2]"
   ]
  },
  {
   "cell_type": "code",
   "execution_count": null,
   "metadata": {},
   "outputs": [],
   "source": [
    "simul_asterisms_data_read[33][43].pprint()"
   ]
  },
  {
   "cell_type": "code",
   "execution_count": null,
   "metadata": {},
   "outputs": [],
   "source": []
  },
  {
   "cell_type": "code",
   "execution_count": null,
   "metadata": {},
   "outputs": [],
   "source": [
    "with open('rec_array.npy','r') as f:\n",
    "    simul_asterisms_data_read = np.fromfile(f, sep=',')"
   ]
  },
  {
   "cell_type": "code",
   "execution_count": null,
   "metadata": {},
   "outputs": [],
   "source": [
    "print(type(simul_asterisms_data_read[0]))"
   ]
  },
  {
   "cell_type": "code",
   "execution_count": null,
   "metadata": {},
   "outputs": [],
   "source": []
  },
  {
   "cell_type": "code",
   "execution_count": null,
   "metadata": {},
   "outputs": [],
   "source": [
    "print(type(simul_asterisms_data['tab_tot']))"
   ]
  },
  {
   "cell_type": "code",
   "execution_count": null,
   "metadata": {},
   "outputs": [],
   "source": [
    "print(len(simul_asterisms_data['tab_tot'][0]))"
   ]
  },
  {
   "cell_type": "code",
   "execution_count": null,
   "metadata": {},
   "outputs": [],
   "source": [
    "print(len(simul_asterisms_data['tab_tot'][0][33]))"
   ]
  },
  {
   "cell_type": "code",
   "execution_count": null,
   "metadata": {},
   "outputs": [],
   "source": [
    "print(len(simul_asterisms_data['tab_tot'][0][33][1]))"
   ]
  },
  {
   "cell_type": "code",
   "execution_count": null,
   "metadata": {},
   "outputs": [],
   "source": [
    "# print(simul_asterisms_data['tab_tot'][0].pprint())\n",
    "print(len(simul_asterisms_data['tab_tot'][0][9999]))\n",
    "print(len(simul_asterisms_data['tab_tot'][0][9999][0]))\n",
    "#print(simul_asterisms_data['tab_tot'][0][0][0].pprint())"
   ]
  },
  {
   "cell_type": "code",
   "execution_count": null,
   "metadata": {},
   "outputs": [],
   "source": [
    "#print(simul_asterisms_data['tab_tot'][0][0][0].fields)\n",
    "keysList = [x[0][1] for x in simul_asterisms_data['tab_tot'][0][0].dtype.descr]\n",
    "print(keysList)\n",
    "# 'FLUXJ' + 'FLUXH'\n",
    "simul_asterisms_data['tab_tot'][0][33][43].pprint()"
   ]
  },
  {
   "cell_type": "code",
   "execution_count": null,
   "metadata": {},
   "outputs": [],
   "source": [
    "print(type(simul_asterisms_data['tab_tot'][0][0]))"
   ]
  },
  {
   "cell_type": "code",
   "execution_count": null,
   "metadata": {},
   "outputs": [],
   "source": []
  },
  {
   "cell_type": "code",
   "execution_count": null,
   "metadata": {},
   "outputs": [],
   "source": [
    "simul_asterisms_data =  np.load('asterisms_c.npz', allow_pickle=True)\n",
    "simul_asterisms_dataL = simul_asterisms_data['arr_0'].tolist()"
   ]
  },
  {
   "cell_type": "code",
   "execution_count": null,
   "metadata": {},
   "outputs": [],
   "source": [
    "print(len(simul_asterisms_dataL))"
   ]
  },
  {
   "cell_type": "code",
   "execution_count": null,
   "metadata": {},
   "outputs": [],
   "source": [
    "for i in range(9):\n",
    "    print(simul_asterisms_dataL[0][0][i])\n",
    "#print(len(simul_asterisms_data['tab_tot'][0][33]))"
   ]
  },
  {
   "cell_type": "code",
   "execution_count": null,
   "metadata": {},
   "outputs": [],
   "source": [
    "rr = np.asarray(simul_asterisms_dataL[0][0])\n",
    "print(rr.tolist()[0])"
   ]
  },
  {
   "cell_type": "code",
   "execution_count": null,
   "metadata": {},
   "outputs": [],
   "source": []
  },
  {
   "cell_type": "code",
   "execution_count": null,
   "metadata": {},
   "outputs": [],
   "source": [
    "print(simul_asterisms_data['tab_tot'][0][33][0])"
   ]
  },
  {
   "cell_type": "code",
   "execution_count": null,
   "metadata": {},
   "outputs": [],
   "source": [
    "np.savez('asterisms_c.npz', simul_asterisms_data['tab_tot'][0])"
   ]
  },
  {
   "cell_type": "code",
   "execution_count": null,
   "metadata": {},
   "outputs": [],
   "source": [
    "for j in range(9):\n",
    "    print(type(simul_asterisms_data['tab_tot'][0][33][0][j]))\n",
    "    print(simul_asterisms_data['tab_tot'][0][33][0][j])"
   ]
  },
  {
   "cell_type": "code",
   "execution_count": null,
   "metadata": {},
   "outputs": [],
   "source": [
    "print(simul_asterisms_data['tab_tot'])"
   ]
  },
  {
   "cell_type": "code",
   "execution_count": null,
   "metadata": {},
   "outputs": [],
   "source": [
    "simul.plotAsterisms(3*n,3*n+10)"
   ]
  },
  {
   "cell_type": "code",
   "execution_count": null,
   "metadata": {},
   "outputs": [],
   "source": []
  },
  {
   "cell_type": "code",
   "execution_count": null,
   "metadata": {},
   "outputs": [],
   "source": [
    "overallSimulation(\"perfTest\", \"SOUL\", 'perfTest', 'testSOUL', doPlot=True, doConvolve=True)"
   ]
  },
  {
   "cell_type": "code",
   "execution_count": null,
   "metadata": {},
   "outputs": [],
   "source": [
    "overallSimulation(\"perfTest\", \"SPHERE\", 'perfTest', 'testSPHERE', doPlot=True, doConvolve=True)"
   ]
  },
  {
   "cell_type": "code",
   "execution_count": null,
   "metadata": {},
   "outputs": [],
   "source": []
  },
  {
   "cell_type": "code",
   "execution_count": null,
   "metadata": {},
   "outputs": [],
   "source": []
  },
  {
   "cell_type": "code",
   "execution_count": null,
   "metadata": {},
   "outputs": [],
   "source": [
    "\n",
    "path = \"perfTest\"\n",
    "parametersFile = \"MAVIS\"\n",
    "outputDir = 'perfTest'\n",
    "outputFile = 'testMAVIS'\n",
    "doPlot=False\n",
    "doConvolve=True\n",
    "\n",
    "simulation = TiptopSimulation(path, parametersFile, outputDir, outputFile, doConvolve,\n",
    "                  doPlot)\n",
    "    \n",
    "simulation.generateTriangles(60,60,10)\n",
    "\n",
    "'''    \n",
    "simulation.doOverallSimulation()\n",
    "if returnRes:\n",
    "    if simulation.LOisOn:\n",
    "        return simulation.HO_res, simulation.LO_res\n",
    "    else:\n",
    "        return simulation.HO_res  \n",
    "elif returnMetrics:\n",
    "    simulation.computeMetrics(eeRadiusInMas)\n",
    "    return simulation.sr, simulation.fwhm, simulation.ee\n",
    "else:\n",
    "    simulation.saveResults()\n",
    "'''"
   ]
  },
  {
   "cell_type": "code",
   "execution_count": null,
   "metadata": {},
   "outputs": [],
   "source": []
  }
 ],
 "metadata": {
  "kernelspec": {
   "display_name": "Python 3 (ipykernel)",
   "language": "python",
   "name": "python3"
  },
  "language_info": {
   "codemirror_mode": {
    "name": "ipython",
    "version": 3
   },
   "file_extension": ".py",
   "mimetype": "text/x-python",
   "name": "python",
   "nbconvert_exporter": "python",
   "pygments_lexer": "ipython3",
   "version": "3.11.4"
  }
 },
 "nbformat": 4,
 "nbformat_minor": 4
}
