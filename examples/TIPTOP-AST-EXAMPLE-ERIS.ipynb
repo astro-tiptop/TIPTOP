{
 "cells": [
  {
   "cell_type": "code",
   "execution_count": null,
   "metadata": {},
   "outputs": [],
   "source": [
    "import time\n",
    "import datetime\n",
    "#%matplotlib inline\n",
    "from tiptop.tiptop import *\n",
    "rc(\"text\", usetex=False)"
   ]
  },
  {
   "cell_type": "code",
   "execution_count": null,
   "metadata": {},
   "outputs": [],
   "source": [
    "scipy.__version__"
   ]
  },
  {
   "cell_type": "code",
   "execution_count": null,
   "metadata": {},
   "outputs": [],
   "source": [
    "# sr, fw, ee, covs, simul = asterismSelection(\"TestERISRandom\", \"../astTest\", \"ERISastRandom\", '../astTest', 'testERISRandom', doPlot=False)"
   ]
  },
  {
   "cell_type": "code",
   "execution_count": null,
   "metadata": {},
   "outputs": [],
   "source": [
    "sr, fw, ee, covs, simul = reloadAsterismSelection(\"TestERISRandom\", \"../astTest\", \"ERISastRandom\", '../astTest', 'testERISRandom', doPlot=True)"
   ]
  },
  {
   "cell_type": "code",
   "execution_count": null,
   "metadata": {},
   "outputs": [],
   "source": [
    "simul.fitHeuristicModel(0, 799, 'randomData0_799')"
   ]
  },
  {
   "cell_type": "code",
   "execution_count": null,
   "metadata": {},
   "outputs": [],
   "source": [
    "simul.testHeuristicModel(799, 999, 'randomData0_799', [])"
   ]
  },
  {
   "cell_type": "code",
   "execution_count": null,
   "metadata": {},
   "outputs": [],
   "source": [
    "simulation = asterismSimulation(\"TestERISSingles\", \"../astTest\", \"ERISastSingles1\", '../astTest', 'testERISSingles', doPlot=False, addSrAndFwhm=True, verbose=False)\n",
    "\n",
    "ss, sortedJitterIndicesModel, jitterApproxSorted, strehls, fwhms = simulation.useHeuristicModel()\n",
    "print(ss, sortedJitterIndicesModel)\n",
    "\n",
    "print('Sorted Approx strehls', strehls)\n",
    "print('Sorted Approx fwhms', fwhms)\n",
    "print('sortedJitterIndicesModel', sortedJitterIndicesModel)"
   ]
  },
  {
   "cell_type": "code",
   "execution_count": null,
   "metadata": {},
   "outputs": [],
   "source": [
    "print('Ast. index', '\\t|\\t', 'Est. penalty', '\\t|\\t', 'Penalty', '\\t|', 'Est. Strehl', '\\t|', 'Strehl', '\\t|', 'Est. FWHM', '\\t|\\t', 'FWHM', '\\t|')\n",
    "for jj, ii in enumerate(sortedJitterIndicesModel):\n",
    "    simulation.computeAsterisms(50, ii, singleAsterism=True)\n",
    "    print('\\t', ii, '\\t|\\t', \n",
    "          f'{jitterApproxSorted[jj]:.2f}', '\\t|\\t', \n",
    "          f'{simulation.penalty_Asterism[0][0]:.2f}', '\\t|\\t', \n",
    "          f'{strehls[jj]:.2f}', '\\t|\\t', \n",
    "          f'{simulation.strehl_Asterism[0][0]:.2f}', '\\t|\\t',\n",
    "          f'{fwhms[jj]:.2f}', '\\t|\\t', \n",
    "          f'{simulation.fwhm_Asterism[0][0]:.2f}', '\\t|\\t', )"
   ]
  },
  {
   "cell_type": "code",
   "execution_count": null,
   "metadata": {},
   "outputs": [],
   "source": [
    "simul.plotField(55)"
   ]
  },
  {
   "cell_type": "code",
   "execution_count": null,
   "metadata": {},
   "outputs": [],
   "source": [
    "#sr, fw, ee, covs, simul = asterismSelection(\"TestERIS1000\", \"astTest\", \"ERISast1000\", 'astTest', 'testERIS1000', doPlot=False)"
   ]
  },
  {
   "cell_type": "code",
   "execution_count": null,
   "metadata": {},
   "outputs": [],
   "source": [
    "#sr, fw, ee, covs, simul = reloadAsterismSelection(\"TestERIS1000\", \"astTest\", \"ERISast1000\", 'astTest', 'testERIS1000', doPlot=False)"
   ]
  },
  {
   "cell_type": "code",
   "execution_count": null,
   "metadata": {},
   "outputs": [],
   "source": [
    "#simul.fitHeuristicModel(0, 799, 'realData0_799')"
   ]
  },
  {
   "cell_type": "code",
   "execution_count": null,
   "metadata": {},
   "outputs": [],
   "source": [
    "#simul.testHeuristicModel(800, 999, 'realData0_799', [])"
   ]
  },
  {
   "cell_type": "code",
   "execution_count": null,
   "metadata": {},
   "outputs": [],
   "source": []
  }
 ],
 "metadata": {
  "kernelspec": {
   "display_name": "Python 3 (ipykernel)",
   "language": "python",
   "name": "python3"
  },
  "language_info": {
   "codemirror_mode": {
    "name": "ipython",
    "version": 3
   },
   "file_extension": ".py",
   "mimetype": "text/x-python",
   "name": "python",
   "nbconvert_exporter": "python",
   "pygments_lexer": "ipython3",
   "version": "3.11.4"
  }
 },
 "nbformat": 4,
 "nbformat_minor": 4
}
